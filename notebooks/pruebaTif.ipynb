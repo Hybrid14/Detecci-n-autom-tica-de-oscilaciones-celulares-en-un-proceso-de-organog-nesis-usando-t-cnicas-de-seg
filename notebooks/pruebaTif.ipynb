{
 "cells": [
  {
   "cell_type": "code",
   "execution_count": null,
   "metadata": {},
   "outputs": [],
   "source": [
    "%matplotlib notebook\n",
    "import matplotlib.pyplot as plt\n",
    "%load_ext autoreload\n",
    "%autoreload 2\n",
    "from scipy import signal\n",
    "import scipy\n",
    "import pandas as pd\n",
    "import sys\n",
    "\n",
    "sys.path.append(\"../pytorch-unet-segmentation-master/src/\")\n",
    "sys.path.append(\"../pytorch-unet-segmentation-master/scripts/\")\n",
    "from save_history import *\n",
    "from modules import *\n",
    "from dataset import *\n",
    "import ipywidgets as widgets\n",
    "import warnings\n",
    "warnings.filterwarnings('ignore')\n",
    "import matplotlib.pyplot as plt\n",
    "import PostprocesamientoTif\n",
    "import LoadDatasetTif\n",
    "import LoadCZI\n",
    "import CreatePNG_TIF\n",
    "import PreprocesamientoTif\n",
    "import Tracking\n",
    "import TrackingConCelulasBorde"
   ]
  },
  {
   "cell_type": "code",
   "execution_count": null,
   "metadata": {},
   "outputs": [],
   "source": [
    "%matplotlib notebook\n",
    "import matplotlib.pyplot as plt \n",
    "from matplotlib.animation import FuncAnimation\n",
    "from PIL import Image\n",
    "import numpy as np\n",
    "path0=\"../pytorch-unet-segmentation-master/archivosTif/cell pulses.tif\"\n",
    "im = Image.open(path0) \n",
    "imarray = []\n",
    "for i in range(im.n_frames):\n",
    "    im.seek(i)\n",
    "    imarray.append(np.array(im))\n",
    "fig, ax = plt.subplots(figsize=(3, 2), tight_layout=True)\n",
    "def update_plot(k):\n",
    "    ax.cla()\n",
    "    ax.imshow(imarray[k])\n",
    "    ax.axis('off')\n",
    "    ax.set_title(k)\n",
    "FuncAnimation(fig, update_plot, frames=len(imarray), repeat=False, interval=50)"
   ]
  },
  {
   "cell_type": "code",
   "execution_count": null,
   "metadata": {
    "scrolled": true
   },
   "outputs": [],
   "source": [
    "path1=\"../pytorch-unet-segmentation-master/Tif_png/test\"\n",
    "CreatePNG_TIF.png(path1,imarray) #str(1).zfill(3)"
   ]
  },
  {
   "cell_type": "code",
   "execution_count": null,
   "metadata": {},
   "outputs": [],
   "source": [
    "pathRead='../pytorch-unet-segmentation-master/Tif_png/test/'\n",
    "pathLoad=\"../pytorch-unet-segmentation-master/preprocesadaTif/test/\"\n",
    "OrigiANDPrepro=PreprocesamientoTif.preprocesing(pathRead,pathLoad,len(imarray))\n",
    "original=OrigiANDPrepro[0] #original\n",
    "preprocesada=OrigiANDPrepro[1] #preprocesada"
   ]
  },
  {
   "cell_type": "code",
   "execution_count": null,
   "metadata": {},
   "outputs": [],
   "source": [
    "img_num=5\n",
    "fig, ax = plt.subplots(1, 2, figsize=(5, 2), sharex=True, sharey=True)\n",
    "ax[0].imshow(original[img_num], cmap=plt.cm.Greys)\n",
    "ax[0].set_title('Original')\n",
    "ax[1].imshow(preprocesada[img_num], cmap=plt.cm.Greys)\n",
    "ax[1].set_title('Preprocesada')"
   ]
  },
  {
   "cell_type": "code",
   "execution_count": null,
   "metadata": {},
   "outputs": [],
   "source": [
    "path=\"../pytorch-unet-segmentation-master/preprocesadaTif\"\n",
    "claudio_loader= LoadDatasetTif.loadData(path)\n",
    "modelo= '../pytorch-unet-segmentation-master/modelos/model_epoch_440.pwf'\n",
    "paramThresh = 0.1 #parametro visto en reu\n",
    "water = PostprocesamientoTif.postprocesing(claudio_loader, modelo, paramThresh)"
   ]
  },
  {
   "cell_type": "code",
   "execution_count": null,
   "metadata": {},
   "outputs": [],
   "source": [
    "image=water[0] #imagen con padd\n",
    "output=water[1] #mascara binaria\n",
    "img_list=water[2] #lista mascaras binarias\n",
    "water_list=water[3] #lista imagens watershed\n",
    "watershed=water[4] #funcion watershed"
   ]
  },
  {
   "cell_type": "code",
   "execution_count": null,
   "metadata": {},
   "outputs": [],
   "source": [
    "fig, ax = plt.subplots(1, 3, figsize=(9, 3), tight_layout=True)\n",
    "pad = (572-388)//2\n",
    "ax[0].imshow(image.numpy()[0, 0], cmap=plt.cm.Greys_r)\n",
    "ax[1].imshow(output.numpy()[0], cmap=plt.cm.Greys_r)\n",
    "borders_on_top = image.numpy()[0, 0, pad:-pad, pad:-pad].copy()\n",
    "idx = np.where(output.numpy()[0].astype(int) == 0)\n",
    "borders_on_top[idx[0], idx[1]] = 0\n",
    "ax[2].imshow(borders_on_top, cmap=plt.cm.Greys_r)"
   ]
  },
  {
   "cell_type": "code",
   "execution_count": null,
   "metadata": {},
   "outputs": [],
   "source": [
    "fig, ax = plt.subplots(2, 2, figsize=(8, 6), tight_layout=True)\n",
    "ax[0, 0].imshow(img_list[0], cmap=plt.cm.Greys_r)\n",
    "ax[1, 0].imshow(water_list[0], cmap=plt.cm.tab20)\n",
    "ax[0, 1].imshow(img_list[13], cmap=plt.cm.Greys_r)\n",
    "ax[1, 1].imshow(water_list[13], cmap=plt.cm.tab20)"
   ]
  },
  {
   "cell_type": "code",
   "execution_count": null,
   "metadata": {},
   "outputs": [],
   "source": [
    "cell_idx = 13 #celula a trackear\n",
    "paramDist= 800\n",
    "tracking = Tracking.vecinosMasCercanos(watershed,water_list,cell_idx,paramDist)"
   ]
  },
  {
   "cell_type": "code",
   "execution_count": null,
   "metadata": {},
   "outputs": [],
   "source": [
    "cell_idx_history= tracking[0] #historia de posiciones de la celula\n",
    "new_size_cell = tracking[1] #tamaño de la celula\n",
    "closestList=tracking[2]"
   ]
  },
  {
   "cell_type": "code",
   "execution_count": null,
   "metadata": {},
   "outputs": [],
   "source": [
    "from matplotlib.animation import FuncAnimation, writers\n",
    "\n",
    "fig, ax = plt.subplots(1, 4, figsize=(9, 2.5), tight_layout=True)\n",
    "ax[-1].plot(new_size_cell)\n",
    "ax[-1].set_xlim([-1, 149])\n",
    "dot = ax[-1].scatter(0, new_size_cell[0], marker='o', color='r')\n",
    "\n",
    "def update_plot(k):\n",
    "    for ax_ in ax[:3]:\n",
    "        ax_.cla()\n",
    "        ax_.axis('off')\n",
    "    img = img_list[k].copy()\n",
    "    img[water_list[k]==cell_idx_history[k]] = 150\n",
    "    ax[0].set_title(k)\n",
    "    ax[0].imshow(original[k], cmap=plt.cm.Greys_r)\n",
    "    ax[1].imshow(preprocesada[k], cmap=plt.cm.Greys_r)\n",
    "    #ax[1].imshow(claudio_loader.dataset[k][0][0].numpy(), cmap=plt.cm.Greys_r)\n",
    "    ax[2].imshow(img, cmap=plt.cm.Greys_r)\n",
    "    dot.set_offsets([k, new_size_cell[k]])\n",
    "    \n",
    "ani = FuncAnimation(fig, update_plot, frames=len(new_size_cell), repeat=False, interval=500)"
   ]
  },
  {
   "cell_type": "code",
   "execution_count": null,
   "metadata": {},
   "outputs": [],
   "source": [
    "from scipy.signal import argrelextrema\n",
    "\n",
    "def autocorr(x):\n",
    "    result = np.correlate(x, x, mode='full')\n",
    "    return result[result.size//2:]\n",
    "\n",
    "relarea2micras = np.prod(water_list[0].shape)*0.2374839**2/100\n",
    "times = np.arange(len(area))*20\n",
    "area = np.array(new_size_cell)*relarea2micras\n",
    "rho = autocorr((area - np.mean(area))/np.std(area))\n",
    "local_max_idx = argrelextrema(rho, np.greater)[0]\n",
    "best_local_max_idx = local_max_idx[np.argsort(rho[local_max_idx])][::-1][0]\n",
    "\n",
    "fig, ax = plt.subplots(2, 1, figsize=(6, 4), tight_layout=True)\n",
    "ax[0].plot(times, area)\n",
    "ax[0].set_ylabel(r'Area [$\\mu m^2$]')\n",
    "ax[0].set_xlabel('Tiempo [s]')\n",
    "ax[1].plot(times, rho)\n",
    "ax[1].set_ylabel('Autocorrelación')\n",
    "ax[1].set_xlabel('Retardo [s]')\n",
    "ax[1].axvline(times[best_local_max_idx], ls='--', c='r')\n",
    "ax[1].set_title(f'Periodicidad: {times[best_local_max_idx]} [s]');"
   ]
  },
  {
   "cell_type": "code",
   "execution_count": null,
   "metadata": {},
   "outputs": [],
   "source": []
  }
 ],
 "metadata": {
  "kernelspec": {
   "display_name": "Torch",
   "language": "python",
   "name": "torch"
  },
  "language_info": {
   "codemirror_mode": {
    "name": "ipython",
    "version": 3
   },
   "file_extension": ".py",
   "mimetype": "text/x-python",
   "name": "python",
   "nbconvert_exporter": "python",
   "pygments_lexer": "ipython3",
   "version": "3.8.5"
  }
 },
 "nbformat": 4,
 "nbformat_minor": 4
}
