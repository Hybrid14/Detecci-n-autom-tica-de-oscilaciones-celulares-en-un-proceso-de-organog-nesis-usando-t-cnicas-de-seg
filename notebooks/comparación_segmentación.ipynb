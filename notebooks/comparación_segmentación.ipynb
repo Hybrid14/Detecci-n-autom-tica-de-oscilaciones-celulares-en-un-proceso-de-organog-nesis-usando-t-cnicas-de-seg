{
 "cells": [
  {
   "cell_type": "code",
   "execution_count": null,
   "metadata": {},
   "outputs": [],
   "source": [
    "%matplotlib notebook\n",
    "import matplotlib.pyplot as plt\n",
    "import cv2\n",
    "import torch\n",
    "import torch.nn as nn\n",
    "import numpy as np\n",
    "from PIL import Image\n",
    "from torchvision import transforms\n",
    "\n",
    "%load_ext autoreload\n",
    "%autoreload 2\n",
    "import sys\n",
    "sys.path.append(\"../pytorch-unet-segmentation-master/scripts/\")\n",
    "sys.path.append(\"../pytorch-unet-segmentation-master/src/\")\n",
    "import Classic\n",
    "\n",
    "# Importar imágenes\n",
    "r = c = 190\n",
    "w = h = 388\n",
    "img = cv2.imread('../pytorch-unet-segmentation-master/imagenes_pruebapre/0.png', \n",
    "                 cv2.IMREAD_GRAYSCALE)[r:r+h, c:c+w]\n",
    "label = cv2.imread('../pytorch-unet-segmentation-master/imagenes_pruebapre/0_mask.png', \n",
    "                   cv2.IMREAD_UNCHANGED)[r:r+h, c:c+w, 3] == 0\n",
    "label = cv2.morphologyEx(label.astype('uint8'), cv2.MORPH_ERODE, \n",
    "                         kernel=np.ones((3,3),np.uint8), \n",
    "                         iterations=1)\n",
    "\n",
    "label_tensor = torch.from_numpy(label.astype('int64'))\n",
    "criterion = nn.BCELoss()"
   ]
  },
  {
   "cell_type": "markdown",
   "metadata": {},
   "source": [
    "Predicciones usando modelo clásico\n",
    "\n"
   ]
  },
  {
   "cell_type": "code",
   "execution_count": null,
   "metadata": {},
   "outputs": [],
   "source": [
    "img_pre1 = Classic.normalize_image(255-img)\n",
    "img_pre1 = Classic.denoise_image(img_pre1)\n",
    "preds1 = ~Classic.get_binary_mask(img_pre1, close_iter=2)/255.\n",
    "\n",
    "loss1 = criterion(torch.from_numpy(preds1).float(), label_tensor.float()).item()\n",
    "\n",
    "fig, ax = plt.subplots(1, 4, figsize=(8, 2.5), tight_layout=True,\n",
    "                       sharex=True, sharey=True)\n",
    "for k, im_plot in enumerate([img, preds1, label]):\n",
    "    ax[k].imshow(im_plot, cmap=plt.cm.Greys_r)\n",
    "ax[-1].imshow(label - preds1, cmap=plt.cm.RdBu_r)\n",
    "ax[0].set_title('Original')\n",
    "ax[1].set_title('Segmentada')\n",
    "ax[2].set_title('Etiqueta')\n",
    "ax[3].set_title(f'Error: {loss1:0.4f}');"
   ]
  },
  {
   "cell_type": "markdown",
   "metadata": {},
   "source": [
    "Predicciones usando Red Neuronal"
   ]
  },
  {
   "cell_type": "code",
   "execution_count": null,
   "metadata": {},
   "outputs": [],
   "source": [
    "# Modelo y definiciones\n",
    "model = torch.load('../pytorch-unet-segmentation-master/modelos/model_epoch_440.pwf', \n",
    "                   map_location=torch.device('cpu')).module.cpu()\n",
    "model.eval();\n",
    "\n",
    "my_transforms = transforms.Compose([transforms.Pad(padding=(572-w)//2, \n",
    "                                                   padding_mode='reflect'),\n",
    "                                    transforms.ToTensor()])\n",
    "\n",
    "def post_process(img, ks=1):\n",
    "    kernel = np.ones((ks, ks), np.uint8)\n",
    "    ret, bin_image = cv2.threshold(img, 127, 255, cv2.THRESH_BINARY + cv2.THRESH_OTSU)\n",
    "    closing = cv2.morphologyEx(bin_image, cv2.MORPH_CLOSE, kernel, iterations=1)\n",
    "    return torch.from_numpy(closing).float()/255.\n",
    "\n",
    "# Preprocesar\n",
    "img_pre2 = cv2.bilateralFilter(img.copy(), 5, 75, 75)\n",
    "img_pre2 = cv2.equalizeHist(img_pre2)\n",
    "# Transformar con torch\n",
    "im_pil = Image.fromarray(img_pre2)\n",
    "img_tensor = my_transforms(im_pil)\n",
    "# Evaluar con U-net\n",
    "with torch.no_grad():\n",
    "    output = model.forward(img_tensor.unsqueeze(0))\n",
    "    preds2 = torch.argmax(output, dim=1).float()\n",
    "    preds2 = post_process(preds2[0].detach().numpy().astype('uint8')*255, ks=3)\n",
    "    loss2 = criterion(preds2, label_tensor.float().unsqueeze(0)).item()\n",
    "preds2 = preds2.squeeze(0).numpy()\n",
    "\n",
    "fig, ax = plt.subplots(1, 4, figsize=(8, 2.5), tight_layout=True,\n",
    "                       sharex=True, sharey=True)\n",
    "for k, im_plot in enumerate([img, preds2, label]):\n",
    "    ax[k].imshow(im_plot, cmap=plt.cm.Greys_r)\n",
    "ax[-1].imshow(label - preds2, cmap=plt.cm.RdBu_r)\n",
    "ax[0].set_title('Original')\n",
    "ax[1].set_title('Segmentada')\n",
    "ax[2].set_title('Etiqueta')\n",
    "ax[3].set_title(f'Error: {loss2:0.4f}');"
   ]
  },
  {
   "cell_type": "code",
   "execution_count": null,
   "metadata": {},
   "outputs": [],
   "source": [
    "\n"
   ]
  }
 ],
 "metadata": {
  "kernelspec": {
   "display_name": "Torch",
   "language": "python",
   "name": "torch"
  },
  "language_info": {
   "codemirror_mode": {
    "name": "ipython",
    "version": 3
   },
   "file_extension": ".py",
   "mimetype": "text/x-python",
   "name": "python",
   "nbconvert_exporter": "python",
   "pygments_lexer": "ipython3",
   "version": "3.8.5"
  },
  "toc": {
   "base_numbering": 1,
   "nav_menu": {},
   "number_sections": true,
   "sideBar": true,
   "skip_h1_title": false,
   "title_cell": "Table of Contents",
   "title_sidebar": "Contents",
   "toc_cell": false,
   "toc_position": {},
   "toc_section_display": true,
   "toc_window_display": false
  }
 },
 "nbformat": 4,
 "nbformat_minor": 4
}
