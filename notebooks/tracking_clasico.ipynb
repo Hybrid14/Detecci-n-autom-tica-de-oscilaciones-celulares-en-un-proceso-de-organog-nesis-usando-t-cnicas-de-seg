{
 "cells": [
  {
   "cell_type": "code",
   "execution_count": null,
   "metadata": {},
   "outputs": [],
   "source": [
    "%matplotlib notebook\n",
    "import matplotlib.pyplot as plt\n",
    "import numpy as np\n",
    "from os.path import join\n",
    "import ipywidgets as widgets\n",
    "import cv2\n",
    "from tqdm.notebook import tqdm\n",
    "from czifile import CziFile\n",
    "\n",
    "%load_ext autoreload\n",
    "%autoreload 2\n",
    "import sys\n",
    "sys.path.append(\"../pytorch-unet-segmentation-master/src/\")\n",
    "sys.path.append(\"../pytorch-unet-segmentation-master/scripts/\")\n",
    "import LoadCZI\n",
    "import Classic\n",
    "import Tracking\n",
    "path0 = \"../pytorch-unet-segmentation-master/test2/test2.czi\"\n",
    "image_arrays = LoadCZI.load(path0)"
   ]
  },
  {
   "cell_type": "markdown",
   "metadata": {},
   "source": [
    "TODO\n",
    "- Calibrate h, templateWidowSize and serachWindowSize  (Denoising)\n",
    "- Calibrate threshold (Thresholding)\n",
    "- Understand how distances are calculated and what is the watershed marking"
   ]
  },
  {
   "cell_type": "code",
   "execution_count": null,
   "metadata": {},
   "outputs": [],
   "source": [
    "fig, ax = plt.subplots(2, 3, figsize=(7, 5), tight_layout=True, sharex=True, sharey=True)\n",
    "\n",
    "# Importar imágenes\n",
    "r = c = 190\n",
    "w = h = 388\n",
    "\n",
    "def update(k, z, bandwidth):\n",
    "    img = Classic.normalize_image(image_arrays[0, 0, 0, k, z, r:r+h, c:c+w, 0])\n",
    "    ax[0, 0].imshow(img, cmap=plt.cm.Greys)\n",
    "    # Denoising\n",
    "    img = Classic.denoise_image(img, bandwidth=bandwidth)\n",
    "    ax[0, 1].imshow(img, cmap=plt.cm.Greys)\n",
    "    # Binarization\n",
    "    binary_mask = Classic.get_binary_mask(img)\n",
    "    ax[0, 2].imshow(binary_mask, cmap=plt.cm.Greys)\n",
    "    binary_mask = ~binary_mask\n",
    "    # Distance transform\n",
    "    markers, watershed, dist_transform = Classic.do_watershed(img, binary_mask)\n",
    "    ax[1, 0].imshow(dist_transform, cmap=plt.cm.Greys)\n",
    "    # Watershed transform\n",
    "    ax[1, 1].imshow(watershed, cmap=plt.cm.tab20)\n",
    "    # Original with watershed borders on top\n",
    "    img2 = img.copy()\n",
    "    img2[watershed==-1] = 255\n",
    "    ax[1, 2].imshow(img2, cmap=plt.cm.Greys)    \n",
    "    \n",
    "\n",
    "widgets.interact(update, \n",
    "                 k=widgets.IntSlider(min=0, max=59),\n",
    "                 z=widgets.IntSlider(min=0, max=16),\n",
    "                 bandwidth=widgets.FloatSlider(min=0., max=100., value=30, step=0.01)\n",
    "                 );"
   ]
  },
  {
   "cell_type": "markdown",
   "metadata": {},
   "source": [
    "### Watershed de dos frames consecutivos\n",
    "\n"
   ]
  },
  {
   "cell_type": "code",
   "execution_count": null,
   "metadata": {},
   "outputs": [],
   "source": [
    "def watershed_pipeline(img, th=0.1):\n",
    "    img = Classic.denoise_image(img)\n",
    "    binary_mask = ~Classic.get_binary_mask(img)\n",
    "    markers, watershed, dist_transform = Classic.do_watershed(img, binary_mask)\n",
    "    return markers, watershed\n",
    "\n",
    "z = 0\n",
    "img1 = Classic.normalize_image(image_arrays[0, 0, 0, 0, z, r:r+h, c:c+w, 0])\n",
    "marker1, water1 = watershed_pipeline(img1)\n",
    "img2 = Classic.normalize_image(image_arrays[0, 0, 0, 1, z, r:r+h, c:c+w, 0])\n",
    "marker2, water2 = watershed_pipeline(img2)\n",
    "\n",
    "fig, ax = plt.subplots(2, 2, figsize=(7, 6), tight_layout=True)\n",
    "ax[0, 0].imshow(img1, cmap=plt.cm.Greys)\n",
    "ax[0, 1].imshow(img2, cmap=plt.cm.Greys)\n",
    "ax[1, 0].imshow(water1, cmap=plt.cm.tab20)\n",
    "ax[1, 1].imshow(water2, cmap=plt.cm.tab20)"
   ]
  },
  {
   "cell_type": "markdown",
   "metadata": {},
   "source": [
    "# Hacer watershed a todas las imagenes"
   ]
  },
  {
   "cell_type": "code",
   "execution_count": null,
   "metadata": {},
   "outputs": [],
   "source": [
    "img_list = []\n",
    "water_list = []\n",
    "\n",
    "for k in tqdm(range(0, 59)):\n",
    "    img_list.append(Classic.normalize_image(image_arrays[0, 0, 0, k, z, r:r+h, c:c+w, 0]))\n",
    "    marker, water = watershed_pipeline(img_list[-1], th=0.3)\n",
    "    water_list.append(water)"
   ]
  },
  {
   "cell_type": "markdown",
   "metadata": {},
   "source": [
    "# Medir la evolución del área de una de celula en particular"
   ]
  },
  {
   "cell_type": "code",
   "execution_count": null,
   "metadata": {},
   "outputs": [],
   "source": [
    "import scipy.fft as sfft\n",
    "\n",
    "cell_idx = 22\n",
    "cell_idx_history, size_cell = Tracking.vecinosMasCercanos(water_list[0],water_list,cell_idx)\n",
    "   \n",
    "fig, ax = plt.subplots(2, 1, figsize=(6, 4), tight_layout=True)\n",
    "ax[0].plot(size_cell)\n",
    "\n",
    "freq = sfft.rfftfreq(n=len(size_cell))\n",
    "S = sfft.rfft(size_cell - np.mean(size_cell))\n",
    "ax[1].plot(freq, np.abs(S))"
   ]
  },
  {
   "cell_type": "code",
   "execution_count": null,
   "metadata": {},
   "outputs": [],
   "source": [
    "from matplotlib.animation import FuncAnimation\n",
    "\n",
    "fig, ax = plt.subplots(figsize=(6, 4), tight_layout=True)\n",
    "\n",
    "def update(k):\n",
    "    ax.cla()\n",
    "    img = img_list[k].copy()\n",
    "    img[water_list[k]==cell_idx_history[k]] = 255\n",
    "    ax.imshow(img, cmap=plt.cm.Greys)\n",
    "    ax.set_title(k)\n",
    "    \n",
    "ani = FuncAnimation(fig, update, frames=range(59), repeat=False, interval=200)"
   ]
  },
  {
   "cell_type": "code",
   "execution_count": null,
   "metadata": {},
   "outputs": [],
   "source": []
  }
 ],
 "metadata": {
  "kernelspec": {
   "display_name": "Torch",
   "language": "python",
   "name": "torch"
  },
  "language_info": {
   "codemirror_mode": {
    "name": "ipython",
    "version": 3
   },
   "file_extension": ".py",
   "mimetype": "text/x-python",
   "name": "python",
   "nbconvert_exporter": "python",
   "pygments_lexer": "ipython3",
   "version": "3.8.5"
  },
  "toc": {
   "base_numbering": 1,
   "nav_menu": {},
   "number_sections": true,
   "sideBar": true,
   "skip_h1_title": false,
   "title_cell": "Table of Contents",
   "title_sidebar": "Contents",
   "toc_cell": false,
   "toc_position": {},
   "toc_section_display": true,
   "toc_window_display": false
  }
 },
 "nbformat": 4,
 "nbformat_minor": 2
}
