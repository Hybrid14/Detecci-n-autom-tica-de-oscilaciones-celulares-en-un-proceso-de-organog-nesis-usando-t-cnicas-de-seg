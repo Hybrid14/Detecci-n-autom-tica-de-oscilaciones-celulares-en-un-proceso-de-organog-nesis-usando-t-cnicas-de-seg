{
 "cells": [
  {
   "cell_type": "markdown",
   "metadata": {},
   "source": [
    "https://github.com/ugent-korea/pytorch-unet-segmentation#postprocessing"
   ]
  },
  {
   "cell_type": "code",
   "execution_count": null,
   "metadata": {},
   "outputs": [],
   "source": [
    "%matplotlib inline\n",
    "import matplotlib.pyplot as plt\n",
    "import cv2\n",
    "import torch\n",
    "import numpy as np\n",
    "import sys\n",
    "from PIL import Image\n",
    "from torchvision import transforms\n",
    "sys.path.append(\"../pytorch-unet-segmentation-master/src/\")"
   ]
  },
  {
   "cell_type": "code",
   "execution_count": null,
   "metadata": {},
   "outputs": [],
   "source": [
    "# Modelo y definiciones\n",
    "\n",
    "model = torch.load('../pytorch-unet-segmentation-master/model_epoch_440.pwf', \n",
    "                   map_location=torch.device('cpu')).module.cpu()\n",
    "model.eval();\n",
    "\n",
    "r = c = 190\n",
    "w = h = 388\n",
    "\n",
    "my_transforms = transforms.Compose([transforms.Pad(padding=(572-388)//2, padding_mode='reflect'),\n",
    "                                    transforms.ToTensor()])\n",
    "\n",
    "criterion = torch.nn.CrossEntropyLoss()"
   ]
  },
  {
   "cell_type": "code",
   "execution_count": null,
   "metadata": {},
   "outputs": [],
   "source": [
    "# Importar imágenes\n",
    "img = cv2.imread('0.png', cv2.IMREAD_GRAYSCALE)[r:r+h, c:c+w]\n",
    "label = cv2.imread('0_mask.png', cv2.IMREAD_UNCHANGED)[r:r+h, c:c+w, 3] == 0\n",
    "fig, ax = plt.subplots(2, 2, figsize=(10, 10), sharex=True, sharey=True)\n",
    "ax[0, 0].imshow(img, cmap=plt.cm.Greys_r)\n",
    "ax[0, 0].set_title('Original')\n",
    "ax[1, 0].imshow(label, cmap=plt.cm.Greys_r)\n",
    "ax[1, 0].set_title('Máscara')\n",
    "\n",
    "# Preprocesamiento con opencv\n",
    "img = cv2.equalizeHist(img)\n",
    "#img = denoise_image(img, 30)\n",
    "#img = cv2.morphologyEx(img, cv2.MORPH_CLOSE, kernel=np.ones((3,3),np.uint8), iterations = 4)\n",
    "ax[0, 1].imshow(img, cmap=plt.cm.Greys_r)\n",
    "ax[0, 1].set_title('Preprocesada')\n",
    "\n",
    "# Transformar con torch\n",
    "im_pil = Image.fromarray(img)\n",
    "img_tensor = my_transforms(im_pil)\n",
    "label_tensor = torch.from_numpy(label.astype('int'))\n",
    "\n",
    "# Evaluar con U-net\n",
    "with torch.no_grad():\n",
    "    output = model.forward(img_tensor.unsqueeze(0))\n",
    "    loss = criterion(output, label_tensor.unsqueeze(0)).item()\n",
    "    preds = torch.argmax(output, dim=1).float().squeeze(0).numpy()\n",
    "    \n",
    "ax[1, 1].imshow(preds , cmap=plt.cm.Greys_r)\n",
    "ax[1, 1].set_title(str(loss));"
   ]
  },
  {
   "cell_type": "code",
   "execution_count": null,
   "metadata": {},
   "outputs": [],
   "source": []
  }
 ],
 "metadata": {
  "kernelspec": {
   "display_name": "Torch",
   "language": "python",
   "name": "torch"
  },
  "language_info": {
   "codemirror_mode": {
    "name": "ipython",
    "version": 3
   },
   "file_extension": ".py",
   "mimetype": "text/x-python",
   "name": "python",
   "nbconvert_exporter": "python",
   "pygments_lexer": "ipython3",
   "version": "3.8.5"
  }
 },
 "nbformat": 4,
 "nbformat_minor": 4
}
