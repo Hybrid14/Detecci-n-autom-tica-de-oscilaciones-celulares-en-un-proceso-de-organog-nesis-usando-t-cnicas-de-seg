{
 "cells": [
  {
   "cell_type": "code",
   "execution_count": null,
   "metadata": {},
   "outputs": [],
   "source": [
    "%matplotlib notebook\n",
    "import matplotlib.pyplot as plt\n",
    "import numpy as np\n",
    "from os.path import join\n",
    "import ipywidgets as widgets\n",
    "import cv2\n",
    "from tqdm.notebook import tqdm\n",
    "from czifile import CziFile\n",
    "\n",
    "path = \"../\"\n",
    "\n",
    "with CziFile(join(path, \"test2.czi\")) as czi:\n",
    "    image_arrays = czi.asarray()\n",
    "    meta = czi.metadata(raw=False)\n"
   ]
  },
  {
   "cell_type": "markdown",
   "metadata": {},
   "source": [
    "TODO\n",
    "- Calibrate h, templateWidowSize and serachWindowSize  (Denoising)\n",
    "- Calibrate threshold (Thresholding)\n",
    "- Understand how distances are calculated and what is the watershed marking"
   ]
  },
  {
   "cell_type": "code",
   "execution_count": null,
   "metadata": {},
   "outputs": [],
   "source": [
    "def normalize_image(img):\n",
    "    img = (img/img.max())*255\n",
    "    return img.astype('uint8')\n",
    "\n",
    "def denoise_image(img, h=30):\n",
    "    # Filtro mediana para eliminar ruido impulsivo\n",
    "    img = cv2.medianBlur(img, 5)\n",
    "    # Non-local mean denoising http://www.ipol.im/pub/art/2011/bcm_nlm/\n",
    "    img = cv2.fastNlMeansDenoising(img, None, h=h, templateWindowSize=7, searchWindowSize=21)\n",
    "    return img\n",
    "\n",
    "def get_binary_mask(img):\n",
    "    # Adaptive thresholding    \n",
    "    binary_mask = cv2.adaptiveThreshold(img, 255, cv2.ADAPTIVE_THRESH_GAUSSIAN_C, \n",
    "                                        cv2.THRESH_BINARY, 21, 0)\n",
    "    # Cerradura morfologica\n",
    "    binary_mask = cv2.morphologyEx(binary_mask, cv2.MORPH_CLOSE, \n",
    "                                   kernel=np.ones((3,3),np.uint8), iterations = 4)\n",
    "    return binary_mask\n",
    "\n",
    "def get_markers(dist, threshold=0.3):\n",
    "    ret, sure_fg = cv2.threshold(dist, threshold*dist.max(), 255, 0)\n",
    "    ret, markers = cv2.connectedComponents(sure_fg.astype('uint8'))\n",
    "    return markers"
   ]
  },
  {
   "cell_type": "code",
   "execution_count": null,
   "metadata": {},
   "outputs": [],
   "source": [
    "fig, ax = plt.subplots(2, 3, figsize=(7, 5), tight_layout=True, sharex=True, sharey=True)\n",
    "\n",
    "def update(k, z, h):\n",
    "    img = normalize_image(image_arrays[0, 0, 0, k, z, 200:600, 200:600, 0])\n",
    "    ax[0, 0].imshow(img, cmap=plt.cm.Greys_r)\n",
    "    # Denoising\n",
    "    img = denoise_image(img, h)\n",
    "    ax[0, 1].imshow(img, cmap=plt.cm.Greys_r)\n",
    "    # Binarization\n",
    "    binary_mask = ~get_binary_mask(img)\n",
    "    ax[0, 2].imshow(binary_mask, cmap=plt.cm.Greys_r)\n",
    "    # Distance transform\n",
    "    dist_transform = cv2.distanceTransform(binary_mask, cv2.DIST_L2, 5)\n",
    "    ax[1, 0].imshow(dist_transform, cmap=plt.cm.Greys_r)\n",
    "    # Watershed transform\n",
    "    markers = get_markers(dist_transform, threshold=0.1)\n",
    "    watershed =  cv2.watershed(cv2.cvtColor(img, cv2.COLOR_GRAY2BGR), markers.copy())\n",
    "    ax[1, 1].imshow(watershed, cmap=plt.cm.tab20)\n",
    "    # Original with watershed borders on top\n",
    "    img2 = img.copy()\n",
    "    img2[watershed==-1] = 255\n",
    "    ax[1, 2].imshow(img2, cmap=plt.cm.Greys_r)    \n",
    "    display(np.unique(watershed))\n",
    "    \n",
    "\n",
    "widgets.interact(update, \n",
    "                 k=widgets.IntSlider(min=0, max=59),\n",
    "                 z=widgets.IntSlider(min=0, max=16),\n",
    "                 h=widgets.FloatSlider(min=0., max=100., value=30, step=0.01)\n",
    "                 );"
   ]
  },
  {
   "cell_type": "markdown",
   "metadata": {},
   "source": [
    "### Watershed de dos frames consecutivos\n",
    "\n"
   ]
  },
  {
   "cell_type": "code",
   "execution_count": null,
   "metadata": {},
   "outputs": [],
   "source": [
    "def watershed_pipeline(img, th=0.1):\n",
    "    img = denoise_image(img)\n",
    "    binary_mask = ~get_binary_mask(img)\n",
    "    dist_transform = cv2.distanceTransform(binary_mask, cv2.DIST_L2, 5)\n",
    "    markers = get_markers(dist_transform, threshold=th)\n",
    "    watershed =  cv2.watershed(cv2.cvtColor(img, cv2.COLOR_GRAY2BGR), markers.copy())\n",
    "    return markers, watershed\n",
    "\n",
    "z = 0\n",
    "\n",
    "img1 = normalize_image(image_arrays[0, 0, 0, 0, z, 200:600, 200:600, 0])\n",
    "marker1, water1 = watershed_pipeline(img1)\n",
    "img2 = normalize_image(image_arrays[0, 0, 0, 1, z, 200:600, 200:600, 0])\n",
    "marker2, water2 = watershed_pipeline(img2)\n",
    "\n",
    "fig, ax = plt.subplots(2, 2, figsize=(8, 6), tight_layout=True)\n",
    "ax[0, 0].imshow(img1, cmap=plt.cm.Greys_r)\n",
    "ax[0, 1].imshow(img2, cmap=plt.cm.Greys_r)\n",
    "ax[1, 0].imshow(water1, cmap=plt.cm.tab20)\n",
    "ax[1, 1].imshow(water2, cmap=plt.cm.tab20)\n"
   ]
  },
  {
   "cell_type": "markdown",
   "metadata": {},
   "source": [
    "# Hacer watershed a todas las imagenes"
   ]
  },
  {
   "cell_type": "code",
   "execution_count": null,
   "metadata": {},
   "outputs": [],
   "source": [
    "img1 = normalize_image(image_arrays[0, 0, 0, 0, z, 200:600, 200:600, 0])\n",
    "marker, water = watershed_pipeline(img1)\n",
    "img_list = []\n",
    "img_list.append(img1)\n",
    "water_list = []\n",
    "water_list.append(water)\n",
    "\n",
    "for k in tqdm(range(1, 59)):\n",
    "    img_list.append(normalize_image(image_arrays[0, 0, 0, k, z, 200:600, 200:600, 0]))\n",
    "    marker, water = watershed_pipeline(img_list[-1], th=0.1)\n",
    "    water_list.append(water)"
   ]
  },
  {
   "cell_type": "markdown",
   "metadata": {},
   "source": [
    "# Medir la evolución del área de una de celula en particular"
   ]
  },
  {
   "cell_type": "code",
   "execution_count": null,
   "metadata": {},
   "outputs": [],
   "source": [
    "total_area = np.prod(water.shape)\n",
    "\n",
    "cell_idx = 51\n",
    "cell_coords = np.mean(np.where(water_list[0]==cell_idx), axis=1)\n",
    "size_cell = []\n",
    "cell_idx_history = [cell_idx]\n",
    "\n",
    "for water in water_list[1:]:\n",
    "    # Get coords of all cells\n",
    "    new_cords = [np.mean(np.where(water==idx), axis=1) for idx in np.unique(water)[1:]]\n",
    "    # Find nearest neightbor index\n",
    "    closest_idx = np.argmin(np.sum((np.stack(new_cords) - cell_coords)**2, axis=1))\n",
    "    nn_idx = np.unique(water)[1:][closest_idx]\n",
    "    # Save index and area\n",
    "    cell_idx_history.append(nn_idx)\n",
    "    size_cell.append(100*len(np.where(water == nn_idx)[0])/total_area)\n",
    "    # update cell coords\n",
    "    cell_coords = np.mean(np.where(water==nn_idx), axis=1)    \n",
    "   \n",
    "fig, ax = plt.subplots(1,2, figsize=(6, 4), tight_layout=True)\n",
    "ax[0].plot(size_cell)\n",
    "\n",
    "from matplotlib.animation import FuncAnimation\n",
    "\n",
    "def update(k):\n",
    "    ax[1].cla()\n",
    "    img = img_list[k].copy()\n",
    "    img[water_list[k]==cell_idx_history[k]] = 255\n",
    "    ax[1].imshow(img, cmap=plt.cm.Greys_r)\n",
    "    ax[1].set_title(k)\n",
    "    \n",
    "ani = FuncAnimation(fig, update, frames=range(59), repeat=False, interval=200)"
   ]
  },
  {
   "cell_type": "code",
   "execution_count": null,
   "metadata": {},
   "outputs": [],
   "source": []
  }
 ],
 "metadata": {
  "kernelspec": {
   "display_name": "Python 3",
   "language": "python",
   "name": "python3"
  },
  "language_info": {
   "codemirror_mode": {
    "name": "ipython",
    "version": 3
   },
   "file_extension": ".py",
   "mimetype": "text/x-python",
   "name": "python",
   "nbconvert_exporter": "python",
   "pygments_lexer": "ipython3",
   "version": "3.7.7"
  }
 },
 "nbformat": 4,
 "nbformat_minor": 2
}
