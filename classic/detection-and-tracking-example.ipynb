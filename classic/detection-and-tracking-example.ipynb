{
 "cells": [
  {
   "cell_type": "code",
   "execution_count": null,
   "metadata": {},
   "outputs": [],
   "source": [
    "%matplotlib notebook\n",
    "import mahotas as mh\n",
    "import matplotlib.pyplot as plt\n",
    "import numpy as np\n",
    "from os.path import join\n",
    "import ipywidgets as widgets\n",
    "import cv2\n",
    "from czifile import CziFile\n",
    "\n",
    "path = \"/home/phuijse/Work/Data/Araya/\"\n",
    "\n",
    "with CziFile(join(path, \"test2.czi\")) as czi:\n",
    "    image_arrays = czi.asarray()\n",
    "    meta = czi.metadata(raw=False)\n",
    "    \n",
    "#display(meta)"
   ]
  },
  {
   "cell_type": "markdown",
   "metadata": {},
   "source": [
    "OpenCV and Mahotas\n",
    "\n",
    "- http://www.cmm.mines-paristech.fr/~beucher/wtshed.html\n",
    "- https://docs.opencv.org/master/d3/db4/tutorial_py_watershed.html\n",
    "- https://github.com/luispedro/python-image-tutorial/blob/master/Segmenting%20cell%20images%20(fluorescent%20microscopy).ipynb\n",
    "- https://docs.opencv.org/3.4/d1/d79/group__photo__denoise.html#ga21abc1c8b0e15f78cd3eff672cb6c476\n",
    "\n",
    "\n",
    "TODO\n",
    "- Calibrate h, templateWidowSize and serachWindowSize  (Denoising)\n",
    "- Calibrate threshold (Thresholding)\n",
    "- Understand how distances are calculated and what is the watershed marking"
   ]
  },
  {
   "cell_type": "code",
   "execution_count": null,
   "metadata": {},
   "outputs": [],
   "source": [
    "fig, ax = plt.subplots(2, 4, figsize=(9, 5), tight_layout=True, sharex=True, sharey=True)\n",
    "\n",
    "def update(k, z, h):\n",
    "    img = image_arrays[0, 0, 0, k, z, :, :, 0]\n",
    "    img = ((img/img.max())*255).astype('uint8')\n",
    "    ax[0, 0].imshow(img, cmap=plt.cm.Greys_r)\n",
    "    # Denoising\n",
    "    img = cv2.medianBlur(img, 5)\n",
    "    ax[0, 1].imshow(img, cmap=plt.cm.Greys_r)\n",
    "    dst = cv2.fastNlMeansDenoising(img, None, h=h, templateWindowSize=7, searchWindowSize=21)\n",
    "    ax[0, 2].imshow(dst, cmap=plt.cm.Greys_r)\n",
    "    # Adaptive thresholding\n",
    "    binary_mask = cv2.adaptiveThreshold(dst, 255, cv2.ADAPTIVE_THRESH_GAUSSIAN_C, cv2.THRESH_BINARY, 21, 0)\n",
    "    ax[0, 3].imshow(binary_mask, cmap=plt.cm.Greys_r)\n",
    "    # Morphological operations on mask\n",
    "    binary_mask = cv2.morphologyEx(binary_mask, cv2.MORPH_CLOSE, \n",
    "                                   kernel=np.ones((3,3),np.uint8), iterations = 4)\n",
    "    ax[1, 0].imshow(binary_mask, cmap=plt.cm.Greys_r)\n",
    "    # Local minima\n",
    "    #ret, sure_fg = cv2.threshold(dist, 1, 255,0)\n",
    "    #ret, markers = cv2.connectedComponents(sure_fg)\n",
    "    minima = mh.regmin(binary_mask)\n",
    "    markers, nr_markers = mh.label(minima)\n",
    "    dst2 = dst.copy()\n",
    "    dst2[minima] = 255\n",
    "    ax[1, 1].imshow(dst2, cmap=plt.cm.Greys_r)\n",
    "    # watershed\n",
    "    watershed = cv2.watershed(cv2.cvtColor(dst, cv2.COLOR_GRAY2BGR), markers)\n",
    "    ax[1, 2].imshow(watershed, cmap=plt.cm.tab20)\n",
    "    # Lines from watershed\n",
    "    dst3 = dst.copy()\n",
    "    dst3[watershed==-1] = 255\n",
    "    ax[1, 3].imshow(dst3, cmap=plt.cm.Greys_r)\n",
    "\n",
    "widgets.interact(update, \n",
    "                 k=widgets.IntSlider(min=0, max=59),\n",
    "                 z=widgets.IntSlider(min=0, max=16),\n",
    "                 h=widgets.FloatSlider(min=0., max=100., value=30, step=0.01)\n",
    "                 );"
   ]
  },
  {
   "cell_type": "code",
   "execution_count": null,
   "metadata": {},
   "outputs": [],
   "source": []
  }
 ],
 "metadata": {
  "kernelspec": {
   "display_name": "Python 3",
   "language": "python",
   "name": "python3"
  },
  "language_info": {
   "codemirror_mode": {
    "name": "ipython",
    "version": 3
   },
   "file_extension": ".py",
   "mimetype": "text/x-python",
   "name": "python",
   "nbconvert_exporter": "python",
   "pygments_lexer": "ipython3",
   "version": "3.7.7"
  }
 },
 "nbformat": 4,
 "nbformat_minor": 2
}
